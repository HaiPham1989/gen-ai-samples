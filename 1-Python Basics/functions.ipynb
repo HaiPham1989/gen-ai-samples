{
 "cells": [
  {
   "cell_type": "code",
   "execution_count": 6,
   "metadata": {},
   "outputs": [
    {
     "name": "stdout",
     "output_type": "stream",
     "text": [
      "the number is odd\n",
      "the number is odd\n",
      "1\n",
      "1\n",
      "12\n",
      "2\n",
      "23\n",
      "23\n",
      "3\n",
      "Hello\n",
      "name:Hai\n",
      "last_name:Pham\n",
      "age:35\n"
     ]
    }
   ],
   "source": [
    "def even_or_odd(num=1):\n",
    "    \"\"\"This function determine a number wheather even or odd\"\"\"\n",
    "    if num%2==0:\n",
    "        print('the number is even')\n",
    "    else:\n",
    "        print('the number is odd')\n",
    "\n",
    "even_or_odd(15)\n",
    "even_or_odd()\n",
    "\n",
    "def print_numbers(*args):\n",
    "    for number in args:\n",
    "        print(number)\n",
    "\n",
    "print_numbers(1,1,12,2,23,23,3,\"Hello\")\n",
    "\n",
    "def print_details(**kwargs):\n",
    "    for key,value in kwargs.items():\n",
    "        print(f\"{key}:{value}\")\n",
    "\n",
    "print_details(name=\"Hai\", last_name=\"Pham\", age=35)"
   ]
  },
  {
   "cell_type": "code",
   "execution_count": 11,
   "metadata": {},
   "outputs": [
    {
     "name": "stdout",
     "output_type": "stream",
     "text": [
      "True\n"
     ]
    }
   ],
   "source": [
    "def is_strong_password(password):\n",
    "    \"\"\"This function checks if the password is strong or not\"\"\"\n",
    "    if len(password) < 8:\n",
    "        return False\n",
    "    if not any(char.isdigit() for char in password):\n",
    "        return False\n",
    "    if not any(char.islower() for char in password):\n",
    "        return False\n",
    "    if not any(char.isupper() for char in password):\n",
    "        return False\n",
    "    return True\n",
    "\n",
    "print(is_strong_password(\"HELLOMYsAS1S\"))\n"
   ]
  },
  {
   "cell_type": "code",
   "execution_count": 21,
   "metadata": {},
   "outputs": [
    {
     "data": {
      "text/plain": [
       "{'tổng': 3,\n",
       " 'bí': 4,\n",
       " 'thư': 4,\n",
       " 'chủ': 3,\n",
       " 'tịch': 3,\n",
       " 'nước': 3,\n",
       " 'tô': 2,\n",
       " 'lâm': 2,\n",
       " 'hoan': 2,\n",
       " 'nghênh': 2,\n",
       " 'doanh': 2,\n",
       " 'nghiệp': 2,\n",
       " 'quảng': 5,\n",
       " 'đông': 5,\n",
       " 'mở': 2,\n",
       " 'rộng': 2,\n",
       " 'quy': 2,\n",
       " 'mô': 2,\n",
       " 'đầu': 3,\n",
       " 'tư': 3,\n",
       " 'chất': 3,\n",
       " 'lượng': 2,\n",
       " 'cao': 3,\n",
       " 'vào': 3,\n",
       " 'việt': 5,\n",
       " 'nam': 4,\n",
       " 'như': 1,\n",
       " 'chuyển': 2,\n",
       " 'đổi': 2,\n",
       " 'số': 2,\n",
       " 'tăng': 3,\n",
       " 'trưởng': 2,\n",
       " 'xanh': 2,\n",
       " 'cơ': 2,\n",
       " 'sở': 2,\n",
       " 'hạ': 2,\n",
       " 'tầng': 2,\n",
       " 'hội': 1,\n",
       " 'kiến': 1,\n",
       " 'với': 2,\n",
       " 'tỉnh': 1,\n",
       " 'ủy': 1,\n",
       " 'hoàng': 1,\n",
       " 'khôn': 1,\n",
       " 'minh': 1,\n",
       " 'hôm': 1,\n",
       " 'nay': 1,\n",
       " 'đánh': 1,\n",
       " 'giá': 1,\n",
       " 'kết': 2,\n",
       " 'quả': 1,\n",
       " 'hợp': 3,\n",
       " 'tác': 3,\n",
       " 'tốt': 1,\n",
       " 'đẹp': 1,\n",
       " 'giữa': 1,\n",
       " 'các': 5,\n",
       " 'địa': 2,\n",
       " 'phương': 2,\n",
       " 'của': 2,\n",
       " 'góp': 1,\n",
       " 'phần': 1,\n",
       " 'bức': 1,\n",
       " 'tranh': 1,\n",
       " 'phát': 1,\n",
       " 'triển': 1,\n",
       " 'chung': 1,\n",
       " 'quan': 1,\n",
       " 'hệ': 1,\n",
       " '-': 1,\n",
       " 'trung': 1,\n",
       " 'theo': 1,\n",
       " 'thông': 1,\n",
       " 'cáo': 1,\n",
       " 'bộ': 1,\n",
       " 'ngoại': 1,\n",
       " 'giao': 2,\n",
       " 'đề': 1,\n",
       " 'nghị': 1,\n",
       " 'và': 2,\n",
       " 'thúc': 1,\n",
       " 'đẩy': 1,\n",
       " 'lưu': 1,\n",
       " 'thường': 1,\n",
       " 'xuyên': 1,\n",
       " 'cường': 1,\n",
       " 'thực': 1,\n",
       " 'trên': 1,\n",
       " 'lĩnh': 2,\n",
       " 'vực': 2,\n",
       " 'nhất': 1,\n",
       " 'là': 1,\n",
       " 'về': 1,\n",
       " 'thương': 1,\n",
       " 'mại': 1,\n",
       " 'nối': 1,\n",
       " 'chiến': 1,\n",
       " 'lược': 1,\n",
       " 'ông': 1,\n",
       " 'trong': 1}"
      ]
     },
     "execution_count": 21,
     "metadata": {},
     "output_type": "execute_result"
    }
   ],
   "source": [
    "def count_word_frequency(file_path):\n",
    "    word_count = {}\n",
    "    with open(file_path, 'r') as file:\n",
    "        for line in file:\n",
    "            words = line.split()\n",
    "            for word in words:\n",
    "                word = word.lower().strip('.,!?;:\"\\'')\n",
    "                word_count[word]=word_count.get(word,0)+1\n",
    "    return word_count\n",
    "\n",
    "count_word_frequency('dumb.txt')\n"
   ]
  },
  {
   "cell_type": "code",
   "execution_count": null,
   "metadata": {},
   "outputs": [],
   "source": []
  }
 ],
 "metadata": {
  "kernelspec": {
   "display_name": "Python 3",
   "language": "python",
   "name": "python3"
  },
  "language_info": {
   "codemirror_mode": {
    "name": "ipython",
    "version": 3
   },
   "file_extension": ".py",
   "mimetype": "text/x-python",
   "name": "python",
   "nbconvert_exporter": "python",
   "pygments_lexer": "ipython3",
   "version": "3.12.0"
  }
 },
 "nbformat": 4,
 "nbformat_minor": 2
}
