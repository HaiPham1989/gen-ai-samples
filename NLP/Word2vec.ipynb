{
 "cells": [
  {
   "cell_type": "code",
   "execution_count": 1,
   "metadata": {},
   "outputs": [
    {
     "name": "stdout",
     "output_type": "stream",
     "text": [
      "Collecting gensim\n",
      "  Downloading gensim-4.3.3-cp312-cp312-win_amd64.whl.metadata (8.2 kB)\n",
      "Collecting numpy<2.0,>=1.18.5 (from gensim)\n",
      "  Downloading numpy-1.26.4-cp312-cp312-win_amd64.whl.metadata (61 kB)\n",
      "Collecting scipy<1.14.0,>=1.7.0 (from gensim)\n",
      "  Downloading scipy-1.13.1-cp312-cp312-win_amd64.whl.metadata (60 kB)\n",
      "Collecting smart-open>=1.8.1 (from gensim)\n",
      "  Downloading smart_open-7.0.4-py3-none-any.whl.metadata (23 kB)\n",
      "Collecting wrapt (from smart-open>=1.8.1->gensim)\n",
      "  Downloading wrapt-1.16.0-cp312-cp312-win_amd64.whl.metadata (6.8 kB)\n",
      "Downloading gensim-4.3.3-cp312-cp312-win_amd64.whl (24.0 MB)\n",
      "   ---------------------------------------- 0.0/24.0 MB ? eta -:--:--\n",
      "   ---- ----------------------------------- 2.6/24.0 MB 16.7 MB/s eta 0:00:02\n",
      "   ---------- ----------------------------- 6.6/24.0 MB 21.2 MB/s eta 0:00:01\n",
      "   -------------------- ------------------- 12.3/24.0 MB 20.3 MB/s eta 0:00:01\n",
      "   -------------------------- ------------- 16.0/24.0 MB 19.7 MB/s eta 0:00:01\n",
      "   -------------------------------- ------- 19.7/24.0 MB 19.7 MB/s eta 0:00:01\n",
      "   ---------------------------------------  23.9/24.0 MB 19.6 MB/s eta 0:00:01\n",
      "   ---------------------------------------- 24.0/24.0 MB 19.2 MB/s eta 0:00:00\n",
      "Downloading numpy-1.26.4-cp312-cp312-win_amd64.whl (15.5 MB)\n",
      "   ---------------------------------------- 0.0/15.5 MB ? eta -:--:--\n",
      "   ---------- ----------------------------- 3.9/15.5 MB 18.1 MB/s eta 0:00:01\n",
      "   -------------------- ------------------- 7.9/15.5 MB 19.4 MB/s eta 0:00:01\n",
      "   ------------------------------- -------- 12.1/15.5 MB 18.9 MB/s eta 0:00:01\n",
      "   ---------------------------------------- 15.5/15.5 MB 18.8 MB/s eta 0:00:00\n",
      "Downloading scipy-1.13.1-cp312-cp312-win_amd64.whl (45.9 MB)\n",
      "   ---------------------------------------- 0.0/45.9 MB ? eta -:--:--\n",
      "   - -------------------------------------- 2.1/45.9 MB 19.7 MB/s eta 0:00:03\n",
      "   - -------------------------------------- 2.1/45.9 MB 19.7 MB/s eta 0:00:03\n",
      "   -- ------------------------------------- 3.1/45.9 MB 5.0 MB/s eta 0:00:09\n",
      "   ---- ----------------------------------- 5.0/45.9 MB 5.7 MB/s eta 0:00:08\n",
      "   ------ --------------------------------- 7.6/45.9 MB 7.2 MB/s eta 0:00:06\n",
      "   ----------- ---------------------------- 13.4/45.9 MB 10.5 MB/s eta 0:00:04\n",
      "   -------------- ------------------------- 17.0/45.9 MB 11.5 MB/s eta 0:00:03\n",
      "   ------------------- -------------------- 22.0/45.9 MB 13.0 MB/s eta 0:00:02\n",
      "   ---------------------- ----------------- 25.7/45.9 MB 13.6 MB/s eta 0:00:02\n",
      "   ------------------------- -------------- 29.6/45.9 MB 14.2 MB/s eta 0:00:02\n",
      "   ----------------------------- ---------- 34.1/45.9 MB 14.6 MB/s eta 0:00:01\n",
      "   --------------------------------- ------ 38.5/45.9 MB 15.2 MB/s eta 0:00:01\n",
      "   ------------------------------------- -- 43.5/45.9 MB 15.7 MB/s eta 0:00:01\n",
      "   ---------------------------------------  45.9/45.9 MB 15.9 MB/s eta 0:00:01\n",
      "   ---------------------------------------- 45.9/45.9 MB 15.4 MB/s eta 0:00:00\n",
      "Downloading smart_open-7.0.4-py3-none-any.whl (61 kB)\n",
      "Downloading wrapt-1.16.0-cp312-cp312-win_amd64.whl (37 kB)\n",
      "Installing collected packages: wrapt, numpy, smart-open, scipy, gensim\n",
      "  Attempting uninstall: numpy\n",
      "    Found existing installation: numpy 2.1.0\n",
      "    Uninstalling numpy-2.1.0:\n",
      "      Successfully uninstalled numpy-2.1.0\n",
      "  Attempting uninstall: scipy\n",
      "    Found existing installation: scipy 1.14.1\n",
      "    Uninstalling scipy-1.14.1:\n",
      "      Successfully uninstalled scipy-1.14.1\n",
      "Successfully installed gensim-4.3.3 numpy-1.26.4 scipy-1.13.1 smart-open-7.0.4 wrapt-1.16.0\n"
     ]
    }
   ],
   "source": [
    "!pip install gensim"
   ]
  },
  {
   "cell_type": "code",
   "execution_count": 2,
   "metadata": {},
   "outputs": [],
   "source": [
    "import gensim"
   ]
  },
  {
   "cell_type": "code",
   "execution_count": 3,
   "metadata": {},
   "outputs": [],
   "source": [
    "from gensim.models import Word2Vec, KeyedVectors"
   ]
  },
  {
   "cell_type": "code",
   "execution_count": null,
   "metadata": {},
   "outputs": [],
   "source": [
    "import gensim.downloader as api\n"
   ]
  }
 ],
 "metadata": {
  "kernelspec": {
   "display_name": "Python 3",
   "language": "python",
   "name": "python3"
  },
  "language_info": {
   "codemirror_mode": {
    "name": "ipython",
    "version": 3
   },
   "file_extension": ".py",
   "mimetype": "text/x-python",
   "name": "python",
   "nbconvert_exporter": "python",
   "pygments_lexer": "ipython3",
   "version": "3.12.0"
  }
 },
 "nbformat": 4,
 "nbformat_minor": 2
}
