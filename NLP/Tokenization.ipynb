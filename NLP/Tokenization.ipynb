{
 "cells": [
  {
   "cell_type": "code",
   "execution_count": null,
   "metadata": {},
   "outputs": [],
   "source": [
    "!pip install nltk"
   ]
  },
  {
   "cell_type": "code",
   "execution_count": null,
   "metadata": {},
   "outputs": [],
   "source": [
    "nltk.download('all')"
   ]
  },
  {
   "cell_type": "code",
   "execution_count": 72,
   "metadata": {},
   "outputs": [],
   "source": [
    "corpus = \"\"\" Hello Welcome,to Hai Pham's NLP TUtorials.\n",
    "Please do watch the entire course! to become expert in NLP.\n",
    "\"\"\""
   ]
  },
  {
   "cell_type": "code",
   "execution_count": 40,
   "metadata": {},
   "outputs": [
    {
     "name": "stdout",
     "output_type": "stream",
     "text": [
      " Hello Welcome, to Hai Pham's NLP TUtorials.\n",
      "Please do watch the entire course! to become expert in NLP.\n",
      "\n"
     ]
    }
   ],
   "source": [
    "print(corpus)"
   ]
  },
  {
   "cell_type": "code",
   "execution_count": 76,
   "metadata": {},
   "outputs": [
    {
     "data": {
      "text/plain": [
       "list"
      ]
     },
     "execution_count": 76,
     "metadata": {},
     "output_type": "execute_result"
    }
   ],
   "source": [
    "## Tokenization\n",
    "## Sentence -> paragraphs\n",
    "from nltk.tokenize import sent_tokenize\n",
    "corpus = \"Em gọi anh để hỏi về tình hình kinh doanh. Anh,có rảnh không ạ.\"\n",
    "documents = sent_tokenize(corpus)\n",
    "type(documents)"
   ]
  },
  {
   "cell_type": "code",
   "execution_count": 56,
   "metadata": {},
   "outputs": [
    {
     "name": "stdout",
     "output_type": "stream",
     "text": [
      "Em gọi anh để hỏi về tình hình kinh doanh.\n",
      "Anh có rảnh không ạ\n"
     ]
    }
   ],
   "source": [
    "for sentence in documents:\n",
    "    print(sentence)"
   ]
  },
  {
   "cell_type": "code",
   "execution_count": 77,
   "metadata": {},
   "outputs": [
    {
     "data": {
      "text/plain": [
       "['Em',\n",
       " 'gọi',\n",
       " 'anh',\n",
       " 'để',\n",
       " 'hỏi',\n",
       " 'về',\n",
       " 'tình',\n",
       " 'hình',\n",
       " 'kinh',\n",
       " 'doanh',\n",
       " '.',\n",
       " 'Anh',\n",
       " ',',\n",
       " 'có',\n",
       " 'rảnh',\n",
       " 'không',\n",
       " 'ạ',\n",
       " '.']"
      ]
     },
     "execution_count": 77,
     "metadata": {},
     "output_type": "execute_result"
    }
   ],
   "source": [
    "from nltk.tokenize import word_tokenize\n",
    "\n",
    "word_tokenize(corpus)"
   ]
  },
  {
   "cell_type": "code",
   "execution_count": 78,
   "metadata": {},
   "outputs": [
    {
     "data": {
      "text/plain": [
       "['Em',\n",
       " 'gọi',\n",
       " 'anh',\n",
       " 'để',\n",
       " 'hỏi',\n",
       " 'về',\n",
       " 'tình',\n",
       " 'hình',\n",
       " 'kinh',\n",
       " 'doanh',\n",
       " '.',\n",
       " 'Anh',\n",
       " ',',\n",
       " 'có',\n",
       " 'rảnh',\n",
       " 'không',\n",
       " 'ạ',\n",
       " '.']"
      ]
     },
     "execution_count": 78,
     "metadata": {},
     "output_type": "execute_result"
    }
   ],
   "source": [
    "from nltk.tokenize import wordpunct_tokenize\n",
    "\n",
    "wordpunct_tokenize(corpus)"
   ]
  },
  {
   "cell_type": "code",
   "execution_count": 79,
   "metadata": {},
   "outputs": [
    {
     "data": {
      "text/plain": [
       "['Em',\n",
       " 'gọi',\n",
       " 'anh',\n",
       " 'để',\n",
       " 'hỏi',\n",
       " 'về',\n",
       " 'tình',\n",
       " 'hình',\n",
       " 'kinh',\n",
       " 'doanh.',\n",
       " 'Anh',\n",
       " ',',\n",
       " 'có',\n",
       " 'rảnh',\n",
       " 'không',\n",
       " 'ạ',\n",
       " '.']"
      ]
     },
     "execution_count": 79,
     "metadata": {},
     "output_type": "execute_result"
    }
   ],
   "source": [
    "from nltk.tokenize import TreebankWordDetokenizer\n",
    "\n",
    "tokenizer = TreebankWordTokenizer()\n",
    "tokenizer.tokenize(corpus)"
   ]
  },
  {
   "cell_type": "code",
   "execution_count": null,
   "metadata": {},
   "outputs": [],
   "source": [
    "## Porter stemmer\n",
    "from nltk.stem import PorterStemmer\n",
    "\n",
    "stemming = PorterStemmer()"
   ]
  }
 ],
 "metadata": {
  "kernelspec": {
   "display_name": "Python 3",
   "language": "python",
   "name": "python3"
  },
  "language_info": {
   "codemirror_mode": {
    "name": "ipython",
    "version": 3
   },
   "file_extension": ".py",
   "mimetype": "text/x-python",
   "name": "python",
   "nbconvert_exporter": "python",
   "pygments_lexer": "ipython3",
   "version": "3.12.0"
  }
 },
 "nbformat": 4,
 "nbformat_minor": 2
}
