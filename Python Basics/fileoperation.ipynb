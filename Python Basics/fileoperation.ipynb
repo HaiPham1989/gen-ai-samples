{
 "cells": [
  {
   "cell_type": "code",
   "execution_count": 5,
   "metadata": {},
   "outputs": [
    {
     "name": "stdout",
     "output_type": "stream",
     "text": [
      "Lines: 5, Words: 178, Characters: 830\n"
     ]
    }
   ],
   "source": [
    "def count_text_file():\n",
    "    with open('dumb.txt', 'r') as file:\n",
    "        lines = file.readlines()\n",
    "        line_count = len(lines)\n",
    "        word_count = sum(len(line.split()) for line in lines)\n",
    "        char_count = sum(len(line) for line in lines)\n",
    "    return line_count, word_count, char_count\n",
    "\n",
    "lines, words, chars = count_text_file()\n",
    "print(f'Lines: {lines}, Words: {words}, Characters: {chars}')"
   ]
  },
  {
   "cell_type": "code",
   "execution_count": 3,
   "metadata": {},
   "outputs": [
    {
     "name": "stdout",
     "output_type": "stream",
     "text": [
      "Tổng Bí thư, Chủ tịch nước Tô Lâm hoan nghênh doanh nghiệp Quảng Đông mở rộng quy mô đầu tư chất lượng cao vào Việt Nam, như chuyển đổi số, tăng trưởng xanh, cơ sở hạ tầng.\n",
      "\n",
      "Hội kiến với Bí thư Tỉnh ủy Quảng Đông Hoàng Khôn Minh hôm nay, Tổng Bí thư, Chủ tịch nước Tô Lâm đánh giá cao kết quả hợp tác tốt đẹp giữa Quảng Đông với các địa phương của Việt Nam, góp phần vào bức tranh phát triển chung của quan hệ Việt - Trung, theo thông cáo Bộ Ngoại giao.\n",
      "\n",
      "Tổng Bí thư, Chủ tịch nước đề nghị Quảng Đông và các địa phương Việt Nam thúc đẩy giao lưu, hợp tác thường xuyên; tăng cường hợp tác thực chất trên các lĩnh vực, nhất là về thương mại, đầu tư và kết nối chiến lược. Ông hoan nghênh các doanh nghiệp Quảng Đông mở rộng quy mô đầu tư chất lượng cao vào Việt Nam trong các lĩnh vực chuyển đổi số, tăng trưởng xanh, cơ sở hạ tầng.\n"
     ]
    }
   ],
   "source": [
    "with open('dumb.txt','r') as file:\n",
    "    for line in file:\n",
    "        print(line.strip())"
   ]
  },
  {
   "cell_type": "code",
   "execution_count": 8,
   "metadata": {},
   "outputs": [
    {
     "name": "stdout",
     "output_type": "stream",
     "text": [
      "Hello world\n",
      "this is a new line \n",
      "\n"
     ]
    }
   ],
   "source": [
    "with open('example.txt', 'w+') as file:\n",
    "    file.write(\"Hello world\\n\")\n",
    "    file.write(\"this is a new line \\n\")\n",
    "\n",
    "    # Move the file cursor to the beginning\n",
    "    file.seek(0)\n",
    "\n",
    "    # read content\n",
    "    content = file.read()\n",
    "    print(content)\n",
    "    "
   ]
  },
  {
   "cell_type": "code",
   "execution_count": 2,
   "metadata": {},
   "outputs": [
    {
     "name": "stdout",
     "output_type": "stream",
     "text": [
      "['dumb.txt', 'example.csv', 'example.txt', 'fileoperation.ipynb', 'first-test.ipynb', 'functions.ipynb', 'module-package.ipynb', 'package', 'test_dir']\n"
     ]
    }
   ],
   "source": [
    "import os \n",
    "\n",
    "items = os.listdir('.')\n",
    "print(items)"
   ]
  }
 ],
 "metadata": {
  "kernelspec": {
   "display_name": "Python 3",
   "language": "python",
   "name": "python3"
  },
  "language_info": {
   "codemirror_mode": {
    "name": "ipython",
    "version": 3
   },
   "file_extension": ".py",
   "mimetype": "text/x-python",
   "name": "python",
   "nbconvert_exporter": "python",
   "pygments_lexer": "ipython3",
   "version": "3.12.0"
  }
 },
 "nbformat": 4,
 "nbformat_minor": 2
}
