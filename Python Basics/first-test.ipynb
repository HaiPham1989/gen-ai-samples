{
 "cells": [
  {
   "cell_type": "markdown",
   "metadata": {},
   "source": [
    "###  Python Example\n",
    "\n",
    "Syntax"
   ]
  },
  {
   "cell_type": "code",
   "execution_count": 15,
   "metadata": {},
   "outputs": [
    {
     "name": "stdout",
     "output_type": "stream",
     "text": [
      "6\n"
     ]
    }
   ],
   "source": [
    "total=1+1+\\\n",
    "2+2\n",
    "\n",
    "print(total)"
   ]
  },
  {
   "cell_type": "code",
   "execution_count": 1,
   "metadata": {},
   "outputs": [
    {
     "name": "stdout",
     "output_type": "stream",
     "text": [
      "This is a positive number\n",
      "This is a even number\n"
     ]
    }
   ],
   "source": [
    "num = int(input(\"Please input a number: \"))\n",
    "\n",
    "if num > 0:\n",
    "    print(\"This is a positive number\")\n",
    "    if num%2==0:\n",
    "        print(\"This is a even number\")\n",
    "    else:\n",
    "        print(\"This is an odd number\")\n",
    "else:\n",
    "    print(\"This is a negative number or zero\")"
   ]
  },
  {
   "cell_type": "code",
   "execution_count": null,
   "metadata": {},
   "outputs": [
    {
     "name": "stdout",
     "output_type": "stream",
     "text": [
      "10\n",
      "9\n",
      "8\n",
      "7\n",
      "6\n",
      "5\n",
      "4\n",
      "3\n",
      "2\n"
     ]
    }
   ],
   "source": [
    "\n",
    "for i in range(10,1,-1):\n",
    "    print(i)\n"
   ]
  },
  {
   "cell_type": "code",
   "execution_count": null,
   "metadata": {},
   "outputs": [
    {
     "name": "stdout",
     "output_type": "stream",
     "text": [
      "[1, 2]\n"
     ]
    }
   ],
   "source": [
    "lst = [1,2]\n",
    "print(lst)"
   ]
  },
  {
   "cell_type": "code",
   "execution_count": null,
   "metadata": {},
   "outputs": [
    {
     "data": {
      "text/plain": [
       "[9, 6, 3, 0]"
      ]
     },
     "execution_count": 12,
     "metadata": {},
     "output_type": "execute_result"
    }
   ],
   "source": [
    "numbers = [0,1,2,3,4,5,6,7,8,9]\n",
    "numbers[::-3]"
   ]
  },
  {
   "cell_type": "code",
   "execution_count": null,
   "metadata": {},
   "outputs": [
    {
     "data": {
      "text/plain": [
       "['numbers: 0', 'numbers: 2', 'numbers: 4', 'numbers: 6', 'numbers: 8']"
      ]
     },
     "execution_count": 24,
     "metadata": {},
     "output_type": "execute_result"
    },
    {
     "data": {
      "text/plain": [
       "['numbers: 0', 'numbers: 2', 'numbers: 4', 'numbers: 6', 'numbers: 8']"
      ]
     },
     "execution_count": 18,
     "metadata": {},
     "output_type": "execute_result"
    }
   ],
   "source": [
    "[f\"numbers: {x}\" for x in range(10) if x%2==0]"
   ]
  },
  {
   "cell_type": "code",
   "execution_count": null,
   "metadata": {},
   "outputs": [
    {
     "name": "stdout",
     "output_type": "stream",
     "text": [
      "(1, 'hi', 2.3)\n",
      "1\n",
      "['hi', 2.3]\n"
     ]
    }
   ],
   "source": [
    "stocks = 1, 'hi', 2.3\n",
    "print(stocks)\n",
    "a,*b=stocks\n",
    "print(a)\n",
    "print(b)"
   ]
  },
  {
   "cell_type": "code",
   "execution_count": null,
   "metadata": {},
   "outputs": [
    {
     "data": {
      "text/plain": [
       "['hello', 1, 2]"
      ]
     },
     "execution_count": 42,
     "metadata": {},
     "output_type": "execute_result"
    }
   ],
   "source": [
    "lst=[(1,2,3,4), [\"hello\",1,2,3],[324,34,34,34]]\n",
    "lst[1][0:3]"
   ]
  },
  {
   "cell_type": "code",
   "execution_count": null,
   "metadata": {},
   "outputs": [
    {
     "name": "stdout",
     "output_type": "stream",
     "text": [
      "Alex\n",
      "3.4\n"
     ]
    }
   ],
   "source": [
    "student = {'name': 'Alex', 'age': 34, 'gpa': 3.4}\n",
    "print(student['name'])\n",
    "\n",
    "student.get('name')\n",
    "print(student.get('gpa'))"
   ]
  },
  {
   "cell_type": "code",
   "execution_count": null,
   "metadata": {},
   "outputs": [
    {
     "name": "stdout",
     "output_type": "stream",
     "text": [
      "{'name': 'Alex', 'age': 30, 'gpa': 3.4, 'age-second': 30}\n",
      "{'name': 'Alex', 'age': 30, 'gpa': 3.4}\n"
     ]
    }
   ],
   "source": [
    "student['age-second'] = 30\n",
    "print(student)\n",
    "\n",
    "del student['age-second']\n",
    "print(student)"
   ]
  },
  {
   "cell_type": "code",
   "execution_count": null,
   "metadata": {},
   "outputs": [
    {
     "name": "stdout",
     "output_type": "stream",
     "text": [
      "{'name': 'Alex', 'age': 34, 'gpa': 3.4}\n"
     ]
    }
   ],
   "source": [
    "student_copy = student.copy()\n",
    "student['age-second'] = 5\n",
    "print(student_copy)"
   ]
  },
  {
   "cell_type": "code",
   "execution_count": null,
   "metadata": {},
   "outputs": [
    {
     "name": "stdout",
     "output_type": "stream",
     "text": [
      "{1: 1, 2: 3, 3: 2, 4: 5, 5: 5}\n"
     ]
    }
   ],
   "source": [
    "numbers = [1,2,2,2,3,3,4,4,4,4,4,5,5,5,5,5]\n",
    "frequency = {}\n",
    "\n",
    "for number in numbers:\n",
    "    if number in frequency:\n",
    "        frequency[number] += 1\n",
    "    else:\n",
    "        frequency[number] = 1\n",
    "\n",
    "print(frequency)"
   ]
  }
 ],
 "metadata": {
  "kernelspec": {
   "display_name": "Python 3",
   "language": "python",
   "name": "python3"
  },
  "language_info": {
   "codemirror_mode": {
    "name": "ipython",
    "version": 3
   },
   "file_extension": ".py",
   "mimetype": "text/x-python",
   "name": "python",
   "nbconvert_exporter": "python",
   "pygments_lexer": "ipython3",
   "version": "3.12.0"
  }
 },
 "nbformat": 4,
 "nbformat_minor": 2
}
