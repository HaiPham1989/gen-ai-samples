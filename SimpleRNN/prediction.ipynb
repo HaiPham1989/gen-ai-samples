{
 "cells": [
  {
   "cell_type": "code",
   "execution_count": 1,
   "metadata": {},
   "outputs": [],
   "source": [
    "import numpy as np\n",
    "import tensorflow as tf\n",
    "from tensorflow.keras.datasets import imdb\n",
    "from tensorflow.keras.preprocessing import sequence\n",
    "from tensorflow.keras.models import load_model"
   ]
  },
  {
   "cell_type": "code",
   "execution_count": 2,
   "metadata": {},
   "outputs": [],
   "source": [
    "# Load the IMDB dataset word index\n",
    "word_index = imdb.get_word_index()\n",
    "reverse_word_index = {value: key for key, value in word_index.items()}"
   ]
  },
  {
   "cell_type": "code",
   "execution_count": 3,
   "metadata": {},
   "outputs": [
    {
     "name": "stderr",
     "output_type": "stream",
     "text": [
      "WARNING:absl:Compiled the loaded model, but the compiled metrics have yet to be built. `model.compile_metrics` will be empty until you train or evaluate the model.\n"
     ]
    },
    {
     "data": {
      "text/html": [
       "<pre style=\"white-space:pre;overflow-x:auto;line-height:normal;font-family:Menlo,'DejaVu Sans Mono',consolas,'Courier New',monospace\"><span style=\"font-weight: bold\">Model: \"sequential\"</span>\n",
       "</pre>\n"
      ],
      "text/plain": [
       "\u001b[1mModel: \"sequential\"\u001b[0m\n"
      ]
     },
     "metadata": {},
     "output_type": "display_data"
    },
    {
     "data": {
      "text/html": [
       "<pre style=\"white-space:pre;overflow-x:auto;line-height:normal;font-family:Menlo,'DejaVu Sans Mono',consolas,'Courier New',monospace\">┏━━━━━━━━━━━━━━━━━━━━━━━━━━━━━━━━━┳━━━━━━━━━━━━━━━━━━━━━━━━┳━━━━━━━━━━━━━━━┓\n",
       "┃<span style=\"font-weight: bold\"> Layer (type)                    </span>┃<span style=\"font-weight: bold\"> Output Shape           </span>┃<span style=\"font-weight: bold\">       Param # </span>┃\n",
       "┡━━━━━━━━━━━━━━━━━━━━━━━━━━━━━━━━━╇━━━━━━━━━━━━━━━━━━━━━━━━╇━━━━━━━━━━━━━━━┩\n",
       "│ embedding (<span style=\"color: #0087ff; text-decoration-color: #0087ff\">Embedding</span>)           │ (<span style=\"color: #00af00; text-decoration-color: #00af00\">32</span>, <span style=\"color: #00af00; text-decoration-color: #00af00\">500</span>, <span style=\"color: #00af00; text-decoration-color: #00af00\">128</span>)         │     <span style=\"color: #00af00; text-decoration-color: #00af00\">1,280,000</span> │\n",
       "├─────────────────────────────────┼────────────────────────┼───────────────┤\n",
       "│ simple_rnn (<span style=\"color: #0087ff; text-decoration-color: #0087ff\">SimpleRNN</span>)          │ (<span style=\"color: #00af00; text-decoration-color: #00af00\">32</span>, <span style=\"color: #00af00; text-decoration-color: #00af00\">128</span>)              │        <span style=\"color: #00af00; text-decoration-color: #00af00\">32,896</span> │\n",
       "├─────────────────────────────────┼────────────────────────┼───────────────┤\n",
       "│ dense (<span style=\"color: #0087ff; text-decoration-color: #0087ff\">Dense</span>)                   │ (<span style=\"color: #00af00; text-decoration-color: #00af00\">32</span>, <span style=\"color: #00af00; text-decoration-color: #00af00\">1</span>)                │           <span style=\"color: #00af00; text-decoration-color: #00af00\">129</span> │\n",
       "└─────────────────────────────────┴────────────────────────┴───────────────┘\n",
       "</pre>\n"
      ],
      "text/plain": [
       "┏━━━━━━━━━━━━━━━━━━━━━━━━━━━━━━━━━┳━━━━━━━━━━━━━━━━━━━━━━━━┳━━━━━━━━━━━━━━━┓\n",
       "┃\u001b[1m \u001b[0m\u001b[1mLayer (type)                   \u001b[0m\u001b[1m \u001b[0m┃\u001b[1m \u001b[0m\u001b[1mOutput Shape          \u001b[0m\u001b[1m \u001b[0m┃\u001b[1m \u001b[0m\u001b[1m      Param #\u001b[0m\u001b[1m \u001b[0m┃\n",
       "┡━━━━━━━━━━━━━━━━━━━━━━━━━━━━━━━━━╇━━━━━━━━━━━━━━━━━━━━━━━━╇━━━━━━━━━━━━━━━┩\n",
       "│ embedding (\u001b[38;5;33mEmbedding\u001b[0m)           │ (\u001b[38;5;34m32\u001b[0m, \u001b[38;5;34m500\u001b[0m, \u001b[38;5;34m128\u001b[0m)         │     \u001b[38;5;34m1,280,000\u001b[0m │\n",
       "├─────────────────────────────────┼────────────────────────┼───────────────┤\n",
       "│ simple_rnn (\u001b[38;5;33mSimpleRNN\u001b[0m)          │ (\u001b[38;5;34m32\u001b[0m, \u001b[38;5;34m128\u001b[0m)              │        \u001b[38;5;34m32,896\u001b[0m │\n",
       "├─────────────────────────────────┼────────────────────────┼───────────────┤\n",
       "│ dense (\u001b[38;5;33mDense\u001b[0m)                   │ (\u001b[38;5;34m32\u001b[0m, \u001b[38;5;34m1\u001b[0m)                │           \u001b[38;5;34m129\u001b[0m │\n",
       "└─────────────────────────────────┴────────────────────────┴───────────────┘\n"
      ]
     },
     "metadata": {},
     "output_type": "display_data"
    },
    {
     "data": {
      "text/html": [
       "<pre style=\"white-space:pre;overflow-x:auto;line-height:normal;font-family:Menlo,'DejaVu Sans Mono',consolas,'Courier New',monospace\"><span style=\"font-weight: bold\"> Total params: </span><span style=\"color: #00af00; text-decoration-color: #00af00\">1,313,027</span> (5.01 MB)\n",
       "</pre>\n"
      ],
      "text/plain": [
       "\u001b[1m Total params: \u001b[0m\u001b[38;5;34m1,313,027\u001b[0m (5.01 MB)\n"
      ]
     },
     "metadata": {},
     "output_type": "display_data"
    },
    {
     "data": {
      "text/html": [
       "<pre style=\"white-space:pre;overflow-x:auto;line-height:normal;font-family:Menlo,'DejaVu Sans Mono',consolas,'Courier New',monospace\"><span style=\"font-weight: bold\"> Trainable params: </span><span style=\"color: #00af00; text-decoration-color: #00af00\">1,313,025</span> (5.01 MB)\n",
       "</pre>\n"
      ],
      "text/plain": [
       "\u001b[1m Trainable params: \u001b[0m\u001b[38;5;34m1,313,025\u001b[0m (5.01 MB)\n"
      ]
     },
     "metadata": {},
     "output_type": "display_data"
    },
    {
     "data": {
      "text/html": [
       "<pre style=\"white-space:pre;overflow-x:auto;line-height:normal;font-family:Menlo,'DejaVu Sans Mono',consolas,'Courier New',monospace\"><span style=\"font-weight: bold\"> Non-trainable params: </span><span style=\"color: #00af00; text-decoration-color: #00af00\">0</span> (0.00 B)\n",
       "</pre>\n"
      ],
      "text/plain": [
       "\u001b[1m Non-trainable params: \u001b[0m\u001b[38;5;34m0\u001b[0m (0.00 B)\n"
      ]
     },
     "metadata": {},
     "output_type": "display_data"
    },
    {
     "data": {
      "text/html": [
       "<pre style=\"white-space:pre;overflow-x:auto;line-height:normal;font-family:Menlo,'DejaVu Sans Mono',consolas,'Courier New',monospace\"><span style=\"font-weight: bold\"> Optimizer params: </span><span style=\"color: #00af00; text-decoration-color: #00af00\">2</span> (12.00 B)\n",
       "</pre>\n"
      ],
      "text/plain": [
       "\u001b[1m Optimizer params: \u001b[0m\u001b[38;5;34m2\u001b[0m (12.00 B)\n"
      ]
     },
     "metadata": {},
     "output_type": "display_data"
    }
   ],
   "source": [
    "# Load the pre-trained model with ReLU activation\n",
    "model = load_model('simple_rnn_imdb.h5')\n",
    "model.summary()"
   ]
  },
  {
   "cell_type": "code",
   "execution_count": 4,
   "metadata": {},
   "outputs": [
    {
     "data": {
      "text/plain": [
       "[array([[ 0.14180367,  0.21989381, -0.13305607, ..., -0.20652184,\n",
       "          0.18152896,  0.1646969 ],\n",
       "        [ 0.04562664,  0.00300625, -0.02507033, ...,  0.02403007,\n",
       "         -0.04244546,  0.00196723],\n",
       "        [ 0.05413224,  0.04294717,  0.0159142 , ..., -0.01695211,\n",
       "          0.06031713,  0.03790531],\n",
       "        ...,\n",
       "        [-0.01693733, -0.00992502,  0.00417139, ...,  0.06592607,\n",
       "         -0.0517833 , -0.0172167 ],\n",
       "        [ 0.00052884,  0.02618033,  0.00846694, ..., -0.03151893,\n",
       "         -0.0980313 ,  0.04764632],\n",
       "        [ 0.0867229 , -0.10131962, -0.0838985 , ...,  0.09099871,\n",
       "          0.06777485, -0.11073989]], dtype=float32),\n",
       " array([[ 0.09467047,  0.03815193, -0.14235008, ..., -0.02416735,\n",
       "          0.11618702, -0.0349662 ],\n",
       "        [-0.07422064, -0.14286885, -0.16861281, ..., -0.13137305,\n",
       "         -0.08353013, -0.1058754 ],\n",
       "        [ 0.1103619 , -0.08519248,  0.14966299, ..., -0.0074042 ,\n",
       "         -0.00205137,  0.03806831],\n",
       "        ...,\n",
       "        [ 0.01036579,  0.09008579, -0.09622883, ...,  0.07280036,\n",
       "          0.04368102,  0.10372554],\n",
       "        [-0.01766577, -0.11264257, -0.13451113, ...,  0.09412657,\n",
       "          0.14245088,  0.04340494],\n",
       "        [ 0.0023392 , -0.03550842, -0.05964837, ..., -0.11573034,\n",
       "         -0.07312887,  0.12763034]], dtype=float32),\n",
       " array([[ 0.02744179,  0.14975108, -0.0226288 , ..., -0.08002263,\n",
       "          0.02812405,  0.10735299],\n",
       "        [ 0.13038832, -0.06031639,  0.16714706, ...,  0.00657899,\n",
       "          0.12608893, -0.04109108],\n",
       "        [-0.0309571 , -0.1532866 , -0.03346307, ..., -0.01850145,\n",
       "         -0.22030427, -0.06021082],\n",
       "        ...,\n",
       "        [-0.10083459,  0.07555234,  0.0133709 , ..., -0.04377762,\n",
       "          0.07821706, -0.06197765],\n",
       "        [ 0.04355325,  0.14867388, -0.17310521, ..., -0.02879007,\n",
       "         -0.07220542,  0.04211785],\n",
       "        [ 0.01122746, -0.08954599, -0.27312726, ...,  0.04513223,\n",
       "          0.02396414,  0.02540294]], dtype=float32),\n",
       " array([-0.00990019, -0.0104412 , -0.0129962 , -0.01606605,  0.00585669,\n",
       "        -0.01431743,  0.02221814, -0.02272167, -0.01221595, -0.01021459,\n",
       "         0.00946888,  0.02342721, -0.0241671 ,  0.01257882, -0.01173829,\n",
       "        -0.01976555,  0.00024959,  0.01224467, -0.01161616, -0.00798029,\n",
       "        -0.00060422,  0.00578931,  0.01021573, -0.01557616, -0.0212402 ,\n",
       "        -0.0068468 , -0.01097738, -0.00886011, -0.00018581, -0.01467297,\n",
       "         0.0033446 , -0.01903836, -0.01185938, -0.00848247, -0.02196664,\n",
       "         0.01142652, -0.01527674, -0.01344967,  0.02654107, -0.02357208,\n",
       "         0.01500251, -0.02348791, -0.00334899,  0.01862981, -0.01508748,\n",
       "        -0.01153172, -0.01677704,  0.02073803,  0.00025072,  0.01777583,\n",
       "        -0.03465297, -0.005154  , -0.00638407, -0.01162171, -0.0090904 ,\n",
       "        -0.0166835 ,  0.01616594, -0.01872582,  0.0024945 , -0.00450478,\n",
       "        -0.00116953, -0.00940314, -0.00613426, -0.00787719,  0.00414159,\n",
       "        -0.02482625, -0.02261235, -0.0143354 ,  0.00402751, -0.01348199,\n",
       "        -0.00882384, -0.0201106 ,  0.00394335, -0.01693005,  0.01845779,\n",
       "         0.01188734, -0.02162901, -0.01842665,  0.01692752, -0.00521512,\n",
       "        -0.01522424, -0.00101329, -0.00406078,  0.00644576, -0.02165825,\n",
       "        -0.00149593, -0.01287871,  0.02350233, -0.01007667, -0.0026    ,\n",
       "         0.01858784, -0.01858674, -0.0083489 ,  0.01295637, -0.00773106,\n",
       "         0.00855112, -0.01340766, -0.01359601, -0.00378699, -0.00299501,\n",
       "         0.00408194, -0.01129941, -0.01268057,  0.02643953, -0.01175268,\n",
       "        -0.02070408, -0.00665335, -0.00485718, -0.01155945,  0.00906259,\n",
       "        -0.01179045, -0.00187509, -0.01246239,  0.01566245,  0.00465646,\n",
       "        -0.00259051,  0.02214818, -0.00420137,  0.01101516,  0.0178701 ,\n",
       "        -0.01191077, -0.00434285,  0.00910414, -0.00843853,  0.01023132,\n",
       "        -0.02766972, -0.00796955,  0.02107412], dtype=float32),\n",
       " array([[ 0.10648529],\n",
       "        [ 0.21651393],\n",
       "        [-0.01162354],\n",
       "        [ 0.09810122],\n",
       "        [ 0.11564893],\n",
       "        [ 0.217771  ],\n",
       "        [-0.12633526],\n",
       "        [ 0.13281687],\n",
       "        [ 0.05462117],\n",
       "        [ 0.21584253],\n",
       "        [ 0.15124007],\n",
       "        [-0.14986287],\n",
       "        [ 0.16547632],\n",
       "        [-0.11701365],\n",
       "        [ 0.12411042],\n",
       "        [ 0.08928216],\n",
       "        [ 0.1902875 ],\n",
       "        [ 0.01265854],\n",
       "        [-0.15396912],\n",
       "        [ 0.16285469],\n",
       "        [-0.04218781],\n",
       "        [ 0.02676064],\n",
       "        [ 0.04661149],\n",
       "        [ 0.10244017],\n",
       "        [ 0.22967815],\n",
       "        [ 0.22598882],\n",
       "        [-0.05904505],\n",
       "        [-0.02004232],\n",
       "        [ 0.04294527],\n",
       "        [-0.1192127 ],\n",
       "        [ 0.10225927],\n",
       "        [ 0.12659115],\n",
       "        [ 0.20226945],\n",
       "        [-0.17130448],\n",
       "        [ 0.09830234],\n",
       "        [ 0.11980461],\n",
       "        [-0.17920321],\n",
       "        [ 0.16628914],\n",
       "        [ 0.10825127],\n",
       "        [-0.05389418],\n",
       "        [-0.05571084],\n",
       "        [ 0.07788922],\n",
       "        [-0.02914717],\n",
       "        [ 0.14030322],\n",
       "        [ 0.09210586],\n",
       "        [-0.14662626],\n",
       "        [ 0.20009984],\n",
       "        [-0.11762039],\n",
       "        [ 0.03002644],\n",
       "        [ 0.12863263],\n",
       "        [-0.47465664],\n",
       "        [ 0.177663  ],\n",
       "        [ 0.13498521],\n",
       "        [ 0.14837708],\n",
       "        [ 0.10405073],\n",
       "        [-0.21554558],\n",
       "        [-0.0986573 ],\n",
       "        [-0.11414309],\n",
       "        [ 0.14369574],\n",
       "        [ 0.10235558],\n",
       "        [-0.13932014],\n",
       "        [ 0.10490159],\n",
       "        [-0.0370099 ],\n",
       "        [ 0.04646637],\n",
       "        [-0.14783293],\n",
       "        [ 0.09978133],\n",
       "        [ 0.0233494 ],\n",
       "        [ 0.07025582],\n",
       "        [ 0.13511273],\n",
       "        [-0.4532855 ],\n",
       "        [-0.06707021],\n",
       "        [ 0.01060855],\n",
       "        [ 0.13979806],\n",
       "        [ 0.15853485],\n",
       "        [-0.03112992],\n",
       "        [ 0.00856397],\n",
       "        [-0.14039801],\n",
       "        [ 0.09917952],\n",
       "        [ 0.15556078],\n",
       "        [ 0.21075086],\n",
       "        [-0.00740752],\n",
       "        [-0.0963547 ],\n",
       "        [ 0.06730603],\n",
       "        [ 0.17252432],\n",
       "        [ 0.02503809],\n",
       "        [ 0.2930986 ],\n",
       "        [ 0.19813323],\n",
       "        [-0.16007052],\n",
       "        [-0.05155613],\n",
       "        [ 0.16567823],\n",
       "        [ 0.15326321],\n",
       "        [-0.0427836 ],\n",
       "        [-0.03133645],\n",
       "        [-0.06412437],\n",
       "        [ 0.15599748],\n",
       "        [ 0.08617055],\n",
       "        [-0.46489316],\n",
       "        [ 0.10285554],\n",
       "        [-0.02719893],\n",
       "        [ 0.12347534],\n",
       "        [-0.0876128 ],\n",
       "        [ 0.1510606 ],\n",
       "        [ 0.1031791 ],\n",
       "        [ 0.01930867],\n",
       "        [-0.08693712],\n",
       "        [ 0.07460708],\n",
       "        [-0.0091531 ],\n",
       "        [ 0.15697695],\n",
       "        [ 0.17869918],\n",
       "        [ 0.01420253],\n",
       "        [ 0.11265557],\n",
       "        [-0.1519266 ],\n",
       "        [ 0.13656263],\n",
       "        [-0.09020281],\n",
       "        [ 0.01357135],\n",
       "        [ 0.17049864],\n",
       "        [-0.03695725],\n",
       "        [-0.02805981],\n",
       "        [-0.06138782],\n",
       "        [ 0.20785525],\n",
       "        [ 0.08383626],\n",
       "        [ 0.13057975],\n",
       "        [-0.05411424],\n",
       "        [ 0.05384625],\n",
       "        [ 0.02388293],\n",
       "        [-0.10644715],\n",
       "        [ 0.18490049],\n",
       "        [-0.11231074]], dtype=float32),\n",
       " array([0.2540013], dtype=float32)]"
      ]
     },
     "execution_count": 4,
     "metadata": {},
     "output_type": "execute_result"
    }
   ],
   "source": [
    "model.get_weights()"
   ]
  },
  {
   "cell_type": "code",
   "execution_count": 5,
   "metadata": {},
   "outputs": [],
   "source": [
    "## Step 2: Helper Functions\n",
    "# Function to decode reviews\n",
    "def decode_review(encoded_review):\n",
    "    return ' '.join([reverse_word_index.get(i - 3, '?') for i in encoded_review])\n",
    "\n",
    "# Function to preprocess user input\n",
    "def preprocess_text(text):\n",
    "    words = text.lower().split()\n",
    "    encoded_review = [word_index.get(word, 2) + 3 for word in words]\n",
    "    padded_review = sequence.pad_sequences([encoded_review], maxlen=500)\n",
    "    return padded_review"
   ]
  },
  {
   "cell_type": "code",
   "execution_count": 12,
   "metadata": {},
   "outputs": [],
   "source": [
    "## Step 3: Prodiction function\n",
    "\n",
    "def predict_sentiment(review):\n",
    "    preprocessed_input = preprocess_text(review)\n",
    "    prediction = model.predict(preprocessed_input)\n",
    "    sentiment = \"Positive\" if prediction[0][0] > 0.05 else \"Negative\"\n",
    "    return sentiment, prediction[0][0]"
   ]
  },
  {
   "cell_type": "code",
   "execution_count": 18,
   "metadata": {},
   "outputs": [
    {
     "name": "stdout",
     "output_type": "stream",
     "text": [
      "\u001b[1m1/1\u001b[0m \u001b[32m━━━━━━━━━━━━━━━━━━━━\u001b[0m\u001b[37m\u001b[0m \u001b[1m0s\u001b[0m 19ms/step\n",
      "Review: The film was good\n",
      "Sentiment: Negative\n",
      "Predict Score: 0.0333007387816906\n"
     ]
    }
   ],
   "source": [
    "# Step 4: User Input and Prediction\n",
    "exmaple_review = \"The film was good\"\n",
    "sentiment,score = predict_sentiment(exmaple_review)\n",
    "\n",
    "print(f'Review: {exmaple_review}')\n",
    "print(f'Sentiment: {sentiment}')\n",
    "print(f'Predict Score: {score}')"
   ]
  }
 ],
 "metadata": {
  "kernelspec": {
   "display_name": "Python 3",
   "language": "python",
   "name": "python3"
  },
  "language_info": {
   "codemirror_mode": {
    "name": "ipython",
    "version": 3
   },
   "file_extension": ".py",
   "mimetype": "text/x-python",
   "name": "python",
   "nbconvert_exporter": "python",
   "pygments_lexer": "ipython3",
   "version": "3.12.0"
  }
 },
 "nbformat": 4,
 "nbformat_minor": 2
}
